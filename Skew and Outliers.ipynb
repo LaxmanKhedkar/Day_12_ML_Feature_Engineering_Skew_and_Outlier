{
 "cells": [
  {
   "cell_type": "code",
   "execution_count": 1,
   "id": "6aafc8cf",
   "metadata": {},
   "outputs": [],
   "source": [
    "### If there is an outlier in the data, the data is surely skewed\n",
    "### But if the data is skewed there might or might not be an outlier present"
   ]
  },
  {
   "cell_type": "markdown",
   "id": "95cfcccb",
   "metadata": {},
   "source": [
    "## Detecting Outliers"
   ]
  },
  {
   "cell_type": "markdown",
   "id": "2494b3d4",
   "metadata": {},
   "source": [
    "### Z Score Method"
   ]
  },
  {
   "cell_type": "code",
   "execution_count": 30,
   "id": "4a4c3037",
   "metadata": {},
   "outputs": [],
   "source": [
    "import pandas as pd\n",
    "import numpy as np"
   ]
  },
  {
   "cell_type": "code",
   "execution_count": 31,
   "id": "85e81439",
   "metadata": {},
   "outputs": [],
   "source": [
    "array1 = np.random.randint(20,50,size = 15)\n",
    "array2 = np.random.randint(50,100,size = 15)"
   ]
  },
  {
   "cell_type": "code",
   "execution_count": 32,
   "id": "c2837391",
   "metadata": {},
   "outputs": [],
   "source": [
    "df = pd.DataFrame({\"Column1\":array1,\"Column2\":array2})"
   ]
  },
  {
   "cell_type": "code",
   "execution_count": 33,
   "id": "d1460a86",
   "metadata": {},
   "outputs": [
    {
     "data": {
      "text/html": [
       "<div>\n",
       "<style scoped>\n",
       "    .dataframe tbody tr th:only-of-type {\n",
       "        vertical-align: middle;\n",
       "    }\n",
       "\n",
       "    .dataframe tbody tr th {\n",
       "        vertical-align: top;\n",
       "    }\n",
       "\n",
       "    .dataframe thead th {\n",
       "        text-align: right;\n",
       "    }\n",
       "</style>\n",
       "<table border=\"1\" class=\"dataframe\">\n",
       "  <thead>\n",
       "    <tr style=\"text-align: right;\">\n",
       "      <th></th>\n",
       "      <th>Column1</th>\n",
       "      <th>Column2</th>\n",
       "    </tr>\n",
       "  </thead>\n",
       "  <tbody>\n",
       "    <tr>\n",
       "      <th>0</th>\n",
       "      <td>47</td>\n",
       "      <td>56</td>\n",
       "    </tr>\n",
       "    <tr>\n",
       "      <th>1</th>\n",
       "      <td>37</td>\n",
       "      <td>88</td>\n",
       "    </tr>\n",
       "    <tr>\n",
       "      <th>2</th>\n",
       "      <td>34</td>\n",
       "      <td>96</td>\n",
       "    </tr>\n",
       "    <tr>\n",
       "      <th>3</th>\n",
       "      <td>45</td>\n",
       "      <td>51</td>\n",
       "    </tr>\n",
       "    <tr>\n",
       "      <th>4</th>\n",
       "      <td>29</td>\n",
       "      <td>59</td>\n",
       "    </tr>\n",
       "    <tr>\n",
       "      <th>5</th>\n",
       "      <td>32</td>\n",
       "      <td>71</td>\n",
       "    </tr>\n",
       "    <tr>\n",
       "      <th>6</th>\n",
       "      <td>49</td>\n",
       "      <td>93</td>\n",
       "    </tr>\n",
       "    <tr>\n",
       "      <th>7</th>\n",
       "      <td>35</td>\n",
       "      <td>93</td>\n",
       "    </tr>\n",
       "    <tr>\n",
       "      <th>8</th>\n",
       "      <td>33</td>\n",
       "      <td>61</td>\n",
       "    </tr>\n",
       "    <tr>\n",
       "      <th>9</th>\n",
       "      <td>32</td>\n",
       "      <td>60</td>\n",
       "    </tr>\n",
       "    <tr>\n",
       "      <th>10</th>\n",
       "      <td>31</td>\n",
       "      <td>69</td>\n",
       "    </tr>\n",
       "    <tr>\n",
       "      <th>11</th>\n",
       "      <td>39</td>\n",
       "      <td>73</td>\n",
       "    </tr>\n",
       "    <tr>\n",
       "      <th>12</th>\n",
       "      <td>31</td>\n",
       "      <td>99</td>\n",
       "    </tr>\n",
       "    <tr>\n",
       "      <th>13</th>\n",
       "      <td>41</td>\n",
       "      <td>98</td>\n",
       "    </tr>\n",
       "    <tr>\n",
       "      <th>14</th>\n",
       "      <td>47</td>\n",
       "      <td>74</td>\n",
       "    </tr>\n",
       "  </tbody>\n",
       "</table>\n",
       "</div>"
      ],
      "text/plain": [
       "    Column1  Column2\n",
       "0        47       56\n",
       "1        37       88\n",
       "2        34       96\n",
       "3        45       51\n",
       "4        29       59\n",
       "5        32       71\n",
       "6        49       93\n",
       "7        35       93\n",
       "8        33       61\n",
       "9        32       60\n",
       "10       31       69\n",
       "11       39       73\n",
       "12       31       99\n",
       "13       41       98\n",
       "14       47       74"
      ]
     },
     "execution_count": 33,
     "metadata": {},
     "output_type": "execute_result"
    }
   ],
   "source": [
    "df"
   ]
  },
  {
   "cell_type": "code",
   "execution_count": 34,
   "id": "96b6a9e3",
   "metadata": {},
   "outputs": [],
   "source": [
    "df.loc[12,\"Column1\"] = 200"
   ]
  },
  {
   "cell_type": "code",
   "execution_count": 35,
   "id": "ef91892a",
   "metadata": {},
   "outputs": [],
   "source": [
    "df.loc[7,\"Column2\"] = 250"
   ]
  },
  {
   "cell_type": "code",
   "execution_count": 36,
   "id": "f61872f0",
   "metadata": {},
   "outputs": [
    {
     "data": {
      "text/html": [
       "<div>\n",
       "<style scoped>\n",
       "    .dataframe tbody tr th:only-of-type {\n",
       "        vertical-align: middle;\n",
       "    }\n",
       "\n",
       "    .dataframe tbody tr th {\n",
       "        vertical-align: top;\n",
       "    }\n",
       "\n",
       "    .dataframe thead th {\n",
       "        text-align: right;\n",
       "    }\n",
       "</style>\n",
       "<table border=\"1\" class=\"dataframe\">\n",
       "  <thead>\n",
       "    <tr style=\"text-align: right;\">\n",
       "      <th></th>\n",
       "      <th>Column1</th>\n",
       "      <th>Column2</th>\n",
       "    </tr>\n",
       "  </thead>\n",
       "  <tbody>\n",
       "    <tr>\n",
       "      <th>0</th>\n",
       "      <td>47</td>\n",
       "      <td>56</td>\n",
       "    </tr>\n",
       "    <tr>\n",
       "      <th>1</th>\n",
       "      <td>37</td>\n",
       "      <td>88</td>\n",
       "    </tr>\n",
       "    <tr>\n",
       "      <th>2</th>\n",
       "      <td>34</td>\n",
       "      <td>96</td>\n",
       "    </tr>\n",
       "    <tr>\n",
       "      <th>3</th>\n",
       "      <td>45</td>\n",
       "      <td>51</td>\n",
       "    </tr>\n",
       "    <tr>\n",
       "      <th>4</th>\n",
       "      <td>29</td>\n",
       "      <td>59</td>\n",
       "    </tr>\n",
       "    <tr>\n",
       "      <th>5</th>\n",
       "      <td>32</td>\n",
       "      <td>71</td>\n",
       "    </tr>\n",
       "    <tr>\n",
       "      <th>6</th>\n",
       "      <td>49</td>\n",
       "      <td>93</td>\n",
       "    </tr>\n",
       "    <tr>\n",
       "      <th>7</th>\n",
       "      <td>35</td>\n",
       "      <td>250</td>\n",
       "    </tr>\n",
       "    <tr>\n",
       "      <th>8</th>\n",
       "      <td>33</td>\n",
       "      <td>61</td>\n",
       "    </tr>\n",
       "    <tr>\n",
       "      <th>9</th>\n",
       "      <td>32</td>\n",
       "      <td>60</td>\n",
       "    </tr>\n",
       "    <tr>\n",
       "      <th>10</th>\n",
       "      <td>31</td>\n",
       "      <td>69</td>\n",
       "    </tr>\n",
       "    <tr>\n",
       "      <th>11</th>\n",
       "      <td>39</td>\n",
       "      <td>73</td>\n",
       "    </tr>\n",
       "    <tr>\n",
       "      <th>12</th>\n",
       "      <td>200</td>\n",
       "      <td>99</td>\n",
       "    </tr>\n",
       "    <tr>\n",
       "      <th>13</th>\n",
       "      <td>41</td>\n",
       "      <td>98</td>\n",
       "    </tr>\n",
       "    <tr>\n",
       "      <th>14</th>\n",
       "      <td>47</td>\n",
       "      <td>74</td>\n",
       "    </tr>\n",
       "  </tbody>\n",
       "</table>\n",
       "</div>"
      ],
      "text/plain": [
       "    Column1  Column2\n",
       "0        47       56\n",
       "1        37       88\n",
       "2        34       96\n",
       "3        45       51\n",
       "4        29       59\n",
       "5        32       71\n",
       "6        49       93\n",
       "7        35      250\n",
       "8        33       61\n",
       "9        32       60\n",
       "10       31       69\n",
       "11       39       73\n",
       "12      200       99\n",
       "13       41       98\n",
       "14       47       74"
      ]
     },
     "execution_count": 36,
     "metadata": {},
     "output_type": "execute_result"
    }
   ],
   "source": [
    "df"
   ]
  },
  {
   "cell_type": "code",
   "execution_count": 37,
   "id": "456019eb",
   "metadata": {},
   "outputs": [],
   "source": [
    "import seaborn as sns"
   ]
  },
  {
   "cell_type": "code",
   "execution_count": 38,
   "id": "8d98a63d",
   "metadata": {},
   "outputs": [
    {
     "data": {
      "text/plain": [
       "<Axes: xlabel='Column1', ylabel='Density'>"
      ]
     },
     "execution_count": 38,
     "metadata": {},
     "output_type": "execute_result"
    },
    {
     "data": {
      "image/png": "[encoded data removed]",
      "text/plain": [
       "<Figure size 640x480 with 1 Axes>"
      ]
     },
     "metadata": {},
     "output_type": "display_data"
    }
   ],
   "source": [
    "sns.kdeplot(df[\"Column1\"])"
   ]
  },
  {
   "cell_type": "code",
   "execution_count": 39,
   "id": "baa1d3e8",
   "metadata": {},
   "outputs": [
    {
     "data": {
      "text/plain": [
       "<Axes: xlabel='Column2', ylabel='Density'>"
      ]
     },
     "execution_count": 39,
     "metadata": {},
     "output_type": "execute_result"
    },
    {
     "data": {
      "image/png": "[encoded data removed]",
      "text/plain": [
       "<Figure size 640x480 with 1 Axes>"
      ]
     },
     "metadata": {},
     "output_type": "display_data"
    }
   ],
   "source": [
    "sns.kdeplot(df[\"Column2\"])"
   ]
  },
  {
   "cell_type": "code",
   "execution_count": 40,
   "id": "09e182b2",
   "metadata": {},
   "outputs": [],
   "source": [
    "from sklearn.preprocessing import StandardScaler"
   ]
  },
  {
   "cell_type": "code",
   "execution_count": 41,
   "id": "3b19c711",
   "metadata": {},
   "outputs": [],
   "source": [
    "scaler = StandardScaler()"
   ]
  },
  {
   "cell_type": "code",
   "execution_count": 42,
   "id": "3ae5c1d7",
   "metadata": {},
   "outputs": [],
   "source": [
    "scaler.fit(df)\n",
    "df2 = scaler.transform(df)"
   ]
  },
  {
   "cell_type": "code",
   "execution_count": 43,
   "id": "af1bfa15",
   "metadata": {},
   "outputs": [],
   "source": [
    "df2 = pd.DataFrame(df2, columns = df.columns)"
   ]
  },
  {
   "cell_type": "code",
   "execution_count": 44,
   "id": "5835ceeb",
   "metadata": {},
   "outputs": [
    {
     "data": {
      "text/html": [
       "<div>\n",
       "<style scoped>\n",
       "    .dataframe tbody tr th:only-of-type {\n",
       "        vertical-align: middle;\n",
       "    }\n",
       "\n",
       "    .dataframe tbody tr th {\n",
       "        vertical-align: top;\n",
       "    }\n",
       "\n",
       "    .dataframe thead th {\n",
       "        text-align: right;\n",
       "    }\n",
       "</style>\n",
       "<table border=\"1\" class=\"dataframe\">\n",
       "  <thead>\n",
       "    <tr style=\"text-align: right;\">\n",
       "      <th></th>\n",
       "      <th>Column1</th>\n",
       "      <th>Column2</th>\n",
       "    </tr>\n",
       "  </thead>\n",
       "  <tbody>\n",
       "    <tr>\n",
       "      <th>0</th>\n",
       "      <td>-0.042364</td>\n",
       "      <td>-0.657585</td>\n",
       "    </tr>\n",
       "    <tr>\n",
       "      <th>1</th>\n",
       "      <td>-0.286771</td>\n",
       "      <td>0.031587</td>\n",
       "    </tr>\n",
       "    <tr>\n",
       "      <th>2</th>\n",
       "      <td>-0.360093</td>\n",
       "      <td>0.203880</td>\n",
       "    </tr>\n",
       "    <tr>\n",
       "      <th>3</th>\n",
       "      <td>-0.091245</td>\n",
       "      <td>-0.765268</td>\n",
       "    </tr>\n",
       "    <tr>\n",
       "      <th>4</th>\n",
       "      <td>-0.482297</td>\n",
       "      <td>-0.592975</td>\n",
       "    </tr>\n",
       "    <tr>\n",
       "      <th>5</th>\n",
       "      <td>-0.408975</td>\n",
       "      <td>-0.334535</td>\n",
       "    </tr>\n",
       "    <tr>\n",
       "      <th>6</th>\n",
       "      <td>0.006518</td>\n",
       "      <td>0.139270</td>\n",
       "    </tr>\n",
       "    <tr>\n",
       "      <th>7</th>\n",
       "      <td>-0.335653</td>\n",
       "      <td>3.520518</td>\n",
       "    </tr>\n",
       "    <tr>\n",
       "      <th>8</th>\n",
       "      <td>-0.384534</td>\n",
       "      <td>-0.549902</td>\n",
       "    </tr>\n",
       "    <tr>\n",
       "      <th>9</th>\n",
       "      <td>-0.408975</td>\n",
       "      <td>-0.571438</td>\n",
       "    </tr>\n",
       "    <tr>\n",
       "      <th>10</th>\n",
       "      <td>-0.433416</td>\n",
       "      <td>-0.377609</td>\n",
       "    </tr>\n",
       "    <tr>\n",
       "      <th>11</th>\n",
       "      <td>-0.237890</td>\n",
       "      <td>-0.291462</td>\n",
       "    </tr>\n",
       "    <tr>\n",
       "      <th>12</th>\n",
       "      <td>3.697068</td>\n",
       "      <td>0.268490</td>\n",
       "    </tr>\n",
       "    <tr>\n",
       "      <th>13</th>\n",
       "      <td>-0.189008</td>\n",
       "      <td>0.246953</td>\n",
       "    </tr>\n",
       "    <tr>\n",
       "      <th>14</th>\n",
       "      <td>-0.042364</td>\n",
       "      <td>-0.269926</td>\n",
       "    </tr>\n",
       "  </tbody>\n",
       "</table>\n",
       "</div>"
      ],
      "text/plain": [
       "     Column1   Column2\n",
       "0  -0.042364 -0.657585\n",
       "1  -0.286771  0.031587\n",
       "2  -0.360093  0.203880\n",
       "3  -0.091245 -0.765268\n",
       "4  -0.482297 -0.592975\n",
       "5  -0.408975 -0.334535\n",
       "6   0.006518  0.139270\n",
       "7  -0.335653  3.520518\n",
       "8  -0.384534 -0.549902\n",
       "9  -0.408975 -0.571438\n",
       "10 -0.433416 -0.377609\n",
       "11 -0.237890 -0.291462\n",
       "12  3.697068  0.268490\n",
       "13 -0.189008  0.246953\n",
       "14 -0.042364 -0.269926"
      ]
     },
     "execution_count": 44,
     "metadata": {},
     "output_type": "execute_result"
    }
   ],
   "source": [
    "df2"
   ]
  },
  {
   "cell_type": "code",
   "execution_count": 45,
   "id": "6fdcc901",
   "metadata": {},
   "outputs": [
    {
     "data": {
      "text/html": [
       "<div>\n",
       "<style scoped>\n",
       "    .dataframe tbody tr th:only-of-type {\n",
       "        vertical-align: middle;\n",
       "    }\n",
       "\n",
       "    .dataframe tbody tr th {\n",
       "        vertical-align: top;\n",
       "    }\n",
       "\n",
       "    .dataframe thead th {\n",
       "        text-align: right;\n",
       "    }\n",
       "</style>\n",
       "<table border=\"1\" class=\"dataframe\">\n",
       "  <thead>\n",
       "    <tr style=\"text-align: right;\">\n",
       "      <th></th>\n",
       "      <th>Column1</th>\n",
       "      <th>Column2</th>\n",
       "    </tr>\n",
       "  </thead>\n",
       "  <tbody>\n",
       "    <tr>\n",
       "      <th>7</th>\n",
       "      <td>-0.335653</td>\n",
       "      <td>3.520518</td>\n",
       "    </tr>\n",
       "    <tr>\n",
       "      <th>12</th>\n",
       "      <td>3.697068</td>\n",
       "      <td>0.268490</td>\n",
       "    </tr>\n",
       "  </tbody>\n",
       "</table>\n",
       "</div>"
      ],
      "text/plain": [
       "     Column1   Column2\n",
       "7  -0.335653  3.520518\n",
       "12  3.697068  0.268490"
      ]
     },
     "execution_count": 45,
     "metadata": {},
     "output_type": "execute_result"
    }
   ],
   "source": [
    "df2[(df2[\"Column1\"]>3)|(df2[\"Column2\"]>3)]"
   ]
  },
  {
   "cell_type": "markdown",
   "id": "d15d1214",
   "metadata": {},
   "source": [
    "## Second Z Score Method"
   ]
  },
  {
   "cell_type": "code",
   "execution_count": 46,
   "id": "b5a60d9d",
   "metadata": {},
   "outputs": [],
   "source": [
    "# (mean + 3*std)|(mean - 3*std)"
   ]
  },
  {
   "cell_type": "code",
   "execution_count": 47,
   "id": "f162b2df",
   "metadata": {},
   "outputs": [],
   "source": [
    "upper_limit_c1 = df[\"Column1\"].mean() + 3*df[\"Column1\"].std()"
   ]
  },
  {
   "cell_type": "code",
   "execution_count": 48,
   "id": "d98420db",
   "metadata": {},
   "outputs": [
    {
     "data": {
      "text/plain": [
       "np.float64(175.7874275497058)"
      ]
     },
     "execution_count": 48,
     "metadata": {},
     "output_type": "execute_result"
    }
   ],
   "source": [
    "upper_limit_c1"
   ]
  },
  {
   "cell_type": "code",
   "execution_count": 49,
   "id": "671d627a",
   "metadata": {},
   "outputs": [
    {
     "data": {
      "text/plain": [
       "np.float64(-78.32076088303914)"
      ]
     },
     "execution_count": 49,
     "metadata": {},
     "output_type": "execute_result"
    }
   ],
   "source": [
    "lower_limit_c1 = df[\"Column1\"].mean() - 3*df[\"Column1\"].std()\n",
    "lower_limit_c1"
   ]
  },
  {
   "cell_type": "code",
   "execution_count": 50,
   "id": "8a4f593c",
   "metadata": {},
   "outputs": [
    {
     "data": {
      "text/html": [
       "<div>\n",
       "<style scoped>\n",
       "    .dataframe tbody tr th:only-of-type {\n",
       "        vertical-align: middle;\n",
       "    }\n",
       "\n",
       "    .dataframe tbody tr th {\n",
       "        vertical-align: top;\n",
       "    }\n",
       "\n",
       "    .dataframe thead th {\n",
       "        text-align: right;\n",
       "    }\n",
       "</style>\n",
       "<table border=\"1\" class=\"dataframe\">\n",
       "  <thead>\n",
       "    <tr style=\"text-align: right;\">\n",
       "      <th></th>\n",
       "      <th>Column1</th>\n",
       "      <th>Column2</th>\n",
       "    </tr>\n",
       "  </thead>\n",
       "  <tbody>\n",
       "    <tr>\n",
       "      <th>12</th>\n",
       "      <td>200</td>\n",
       "      <td>99</td>\n",
       "    </tr>\n",
       "  </tbody>\n",
       "</table>\n",
       "</div>"
      ],
      "text/plain": [
       "    Column1  Column2\n",
       "12      200       99"
      ]
     },
     "execution_count": 50,
     "metadata": {},
     "output_type": "execute_result"
    }
   ],
   "source": [
    "df[(df[\"Column1\"]>176.4617)|(df[\"Column1\"]<-80.7283)]"
   ]
  },
  {
   "cell_type": "code",
   "execution_count": 51,
   "id": "da9e8cce",
   "metadata": {},
   "outputs": [],
   "source": [
    "upper_limit_c2 = df[\"Column2\"].mean() + 3*df[\"Column2\"].std()\n",
    "lower_limit_c2 = df[\"Column2\"].mean() - 3*df[\"Column2\"].std()"
   ]
  },
  {
   "cell_type": "code",
   "execution_count": 52,
   "id": "d6c03ae9",
   "metadata": {},
   "outputs": [
    {
     "data": {
      "text/html": [
       "<div>\n",
       "<style scoped>\n",
       "    .dataframe tbody tr th:only-of-type {\n",
       "        vertical-align: middle;\n",
       "    }\n",
       "\n",
       "    .dataframe tbody tr th {\n",
       "        vertical-align: top;\n",
       "    }\n",
       "\n",
       "    .dataframe thead th {\n",
       "        text-align: right;\n",
       "    }\n",
       "</style>\n",
       "<table border=\"1\" class=\"dataframe\">\n",
       "  <thead>\n",
       "    <tr style=\"text-align: right;\">\n",
       "      <th></th>\n",
       "      <th>Column1</th>\n",
       "      <th>Column2</th>\n",
       "    </tr>\n",
       "  </thead>\n",
       "  <tbody>\n",
       "    <tr>\n",
       "      <th>7</th>\n",
       "      <td>35</td>\n",
       "      <td>250</td>\n",
       "    </tr>\n",
       "    <tr>\n",
       "      <th>12</th>\n",
       "      <td>200</td>\n",
       "      <td>99</td>\n",
       "    </tr>\n",
       "  </tbody>\n",
       "</table>\n",
       "</div>"
      ],
      "text/plain": [
       "    Column1  Column2\n",
       "7        35      250\n",
       "12      200       99"
      ]
     },
     "execution_count": 52,
     "metadata": {},
     "output_type": "execute_result"
    }
   ],
   "source": [
    "df[(df[\"Column1\"]>upper_limit_c1)|\n",
    "   (df[\"Column1\"]<lower_limit_c1)|\n",
    "   (df[\"Column2\"]>upper_limit_c2)|\n",
    "   (df[\"Column2\"]<lower_limit_c2)]"
   ]
  },
  {
   "cell_type": "markdown",
   "id": "a459c704",
   "metadata": {},
   "source": [
    "### IQR Method to detect an outlier"
   ]
  },
  {
   "cell_type": "code",
   "execution_count": 53,
   "id": "541e112f",
   "metadata": {},
   "outputs": [],
   "source": [
    "q1 = df[\"Column1\"].quantile(0.25)\n",
    "q3 = df[\"Column1\"].quantile(0.75)\n",
    "\n",
    "IQR = q3 - q1\n",
    "\n",
    "upper_limit = q3 + 1.5*IQR\n",
    "lower_limit = q1 - 1.5*IQR"
   ]
  },
  {
   "cell_type": "code",
   "execution_count": 54,
   "id": "f5b47deb",
   "metadata": {},
   "outputs": [
    {
     "data": {
      "text/html": [
       "<div>\n",
       "<style scoped>\n",
       "    .dataframe tbody tr th:only-of-type {\n",
       "        vertical-align: middle;\n",
       "    }\n",
       "\n",
       "    .dataframe tbody tr th {\n",
       "        vertical-align: top;\n",
       "    }\n",
       "\n",
       "    .dataframe thead th {\n",
       "        text-align: right;\n",
       "    }\n",
       "</style>\n",
       "<table border=\"1\" class=\"dataframe\">\n",
       "  <thead>\n",
       "    <tr style=\"text-align: right;\">\n",
       "      <th></th>\n",
       "      <th>Column1</th>\n",
       "      <th>Column2</th>\n",
       "    </tr>\n",
       "  </thead>\n",
       "  <tbody>\n",
       "    <tr>\n",
       "      <th>12</th>\n",
       "      <td>200</td>\n",
       "      <td>99</td>\n",
       "    </tr>\n",
       "  </tbody>\n",
       "</table>\n",
       "</div>"
      ],
      "text/plain": [
       "    Column1  Column2\n",
       "12      200       99"
      ]
     },
     "execution_count": 54,
     "metadata": {},
     "output_type": "execute_result"
    }
   ],
   "source": [
    "df[(df[\"Column1\"]>upper_limit)|(df[\"Column1\"]<lower_limit)]"
   ]
  },
  {
   "cell_type": "code",
   "execution_count": 55,
   "id": "42331c9b",
   "metadata": {},
   "outputs": [
    {
     "data": {
      "text/html": [
       "<div>\n",
       "<style scoped>\n",
       "    .dataframe tbody tr th:only-of-type {\n",
       "        vertical-align: middle;\n",
       "    }\n",
       "\n",
       "    .dataframe tbody tr th {\n",
       "        vertical-align: top;\n",
       "    }\n",
       "\n",
       "    .dataframe thead th {\n",
       "        text-align: right;\n",
       "    }\n",
       "</style>\n",
       "<table border=\"1\" class=\"dataframe\">\n",
       "  <thead>\n",
       "    <tr style=\"text-align: right;\">\n",
       "      <th></th>\n",
       "      <th>Column1</th>\n",
       "      <th>Column2</th>\n",
       "    </tr>\n",
       "  </thead>\n",
       "  <tbody>\n",
       "    <tr>\n",
       "      <th>7</th>\n",
       "      <td>35</td>\n",
       "      <td>250</td>\n",
       "    </tr>\n",
       "  </tbody>\n",
       "</table>\n",
       "</div>"
      ],
      "text/plain": [
       "   Column1  Column2\n",
       "7       35      250"
      ]
     },
     "execution_count": 55,
     "metadata": {},
     "output_type": "execute_result"
    }
   ],
   "source": [
    "q1 = df[\"Column2\"].quantile(0.25)\n",
    "q3 = df[\"Column2\"].quantile(0.75)\n",
    "\n",
    "IQR = q3 - q1\n",
    "\n",
    "upper_limit = q3 + 1.5*IQR\n",
    "lower_limit = q1 - 1.5*IQR\n",
    "\n",
    "df[(df[\"Column2\"]>upper_limit)|(df[\"Column2\"]<lower_limit)]"
   ]
  },
  {
   "cell_type": "code",
   "execution_count": 29,
   "id": "1f63c5b0",
   "metadata": {},
   "outputs": [],
   "source": [
    "from sklearn.datasets import load_boston"
   ]
  },
  {
   "cell_type": "code",
   "execution_count": null,
   "id": "f119990d",
   "metadata": {},
   "outputs": [],
   "source": [
    "import warnings\n",
    "warnings.filterwarnings(\"ignore\")"
   ]
  },
  {
   "cell_type": "code",
   "execution_count": null,
   "id": "5fa31554",
   "metadata": {},
   "outputs": [],
   "source": [
    "data_dict = load_boston()"
   ]
  },
  {
   "cell_type": "code",
   "execution_count": null,
   "id": "2d3adea6",
   "metadata": {},
   "outputs": [],
   "source": [
    "df = pd.DataFrame(data = data_dict.data, columns=data_dict.feature_names)\n",
    "df.head()"
   ]
  },
  {
   "cell_type": "code",
   "execution_count": null,
   "id": "27bd0258",
   "metadata": {},
   "outputs": [],
   "source": [
    "df[\"HOUSE_PRICE\"] = data_dict.target"
   ]
  },
  {
   "cell_type": "code",
   "execution_count": null,
   "id": "fc156762",
   "metadata": {},
   "outputs": [],
   "source": [
    "df.tail()"
   ]
  },
  {
   "cell_type": "code",
   "execution_count": null,
   "id": "15e3f753",
   "metadata": {},
   "outputs": [],
   "source": [
    "df[[\"CRIM\"]].boxplot()"
   ]
  },
  {
   "cell_type": "code",
   "execution_count": null,
   "id": "56d81467",
   "metadata": {},
   "outputs": [],
   "source": [
    "q1 = df[\"CRIM\"].quantile(0.25)\n",
    "q3 = df[\"CRIM\"].quantile(0.75)\n",
    "\n",
    "IQR = q3 - q1\n",
    "\n",
    "upper_limit = q3 + 1.5*IQR\n",
    "lower_limit = q1 - 1.5*IQR"
   ]
  },
  {
   "cell_type": "code",
   "execution_count": null,
   "id": "2fb1516c",
   "metadata": {},
   "outputs": [],
   "source": [
    "df[(df[\"CRIM\"]>upper_limit)]"
   ]
  },
  {
   "cell_type": "code",
   "execution_count": null,
   "id": "f2099b9a",
   "metadata": {},
   "outputs": [],
   "source": [
    "len(df[(df[\"CRIM\"]>upper_limit)])/len(df)*100"
   ]
  },
  {
   "cell_type": "code",
   "execution_count": null,
   "id": "9698685e",
   "metadata": {},
   "outputs": [],
   "source": [
    "def check_outlier_percent(col):\n",
    "    q1 = df[col].quantile(0.25)\n",
    "    q3 = df[col].quantile(0.75)\n",
    "\n",
    "    IQR = q3 - q1\n",
    "\n",
    "    upper_limit = q3 + 1.5*IQR\n",
    "    lower_limit = q1 - 1.5*IQR\n",
    "    \n",
    "    percent = len(df[(df[col]>upper_limit)])/len(df)*100\n",
    "    \n",
    "    return percent"
   ]
  },
  {
   "cell_type": "code",
   "execution_count": null,
   "id": "4f939a4a",
   "metadata": {},
   "outputs": [],
   "source": [
    "check_outlier_percent(\"INDUS\")"
   ]
  },
  {
   "cell_type": "code",
   "execution_count": null,
   "id": "bc819af2",
   "metadata": {},
   "outputs": [],
   "source": [
    "sns.kdeplot(df[\"AGE\"])"
   ]
  },
  {
   "cell_type": "code",
   "execution_count": null,
   "id": "5613509e",
   "metadata": {},
   "outputs": [],
   "source": [
    "check_outlier_percent(\"AGE\")"
   ]
  },
  {
   "cell_type": "code",
   "execution_count": null,
   "id": "311005af",
   "metadata": {},
   "outputs": [],
   "source": [
    "df[\"AGE\"].skew()"
   ]
  },
  {
   "cell_type": "markdown",
   "id": "eda944d1",
   "metadata": {},
   "source": [
    "### How to handle the outliers ?"
   ]
  },
  {
   "cell_type": "code",
   "execution_count": null,
   "id": "e030c145",
   "metadata": {},
   "outputs": [],
   "source": [
    "1. Delete the observation\n",
    "2. Imputation Technique\n",
    "    1. Median\n",
    "    2. mean\n",
    "    3. upper tail (IQR upper whisker)\n",
    "    4. lower tail (IQR lower whisker)\n",
    "    5. static value\n",
    "    6. Maximum or Minimum value"
   ]
  },
  {
   "cell_type": "code",
   "execution_count": null,
   "id": "72f38e91",
   "metadata": {},
   "outputs": [],
   "source": [
    "q1 = df[\"CRIM\"].quantile(0.25)\n",
    "q3 = df[\"CRIM\"].quantile(0.75)\n",
    "\n",
    "IQR = q3 - q1\n",
    "\n",
    "upper_limit = q3 + 1.5*IQR\n",
    "lower_limit = q1 - 1.5*IQR"
   ]
  },
  {
   "cell_type": "code",
   "execution_count": null,
   "id": "035fdbfb",
   "metadata": {},
   "outputs": [],
   "source": [
    "upper_limit"
   ]
  },
  {
   "cell_type": "code",
   "execution_count": null,
   "id": "7947c4f5",
   "metadata": {},
   "outputs": [],
   "source": [
    "df.loc[df[\"CRIM\"]>upper_limit]"
   ]
  },
  {
   "cell_type": "code",
   "execution_count": null,
   "id": "53ddc287",
   "metadata": {},
   "outputs": [],
   "source": [
    "df.loc[df[\"CRIM\"]>upper_limit] = upper_limit"
   ]
  },
  {
   "cell_type": "code",
   "execution_count": null,
   "id": "7e84aa2e",
   "metadata": {},
   "outputs": [],
   "source": [
    "df[[\"CRIM\"]].boxplot()"
   ]
  },
  {
   "cell_type": "code",
   "execution_count": null,
   "id": "12a7cfdd",
   "metadata": {},
   "outputs": [],
   "source": [
    "sns.kdeplot(df[\"CRIM\"])"
   ]
  },
  {
   "cell_type": "markdown",
   "id": "41d2b32d",
   "metadata": {},
   "source": [
    "### Handling Skew in the data"
   ]
  },
  {
   "cell_type": "code",
   "execution_count": null,
   "id": "3486460a",
   "metadata": {},
   "outputs": [],
   "source": [
    "df = pd.DataFrame(data = data_dict.data, columns=data_dict.feature_names)\n",
    "df.head()"
   ]
  },
  {
   "cell_type": "code",
   "execution_count": null,
   "id": "e6dcc0aa",
   "metadata": {},
   "outputs": [],
   "source": [
    "df[\"HOUSE_PRICE\"] = data_dict.target"
   ]
  },
  {
   "cell_type": "code",
   "execution_count": null,
   "id": "bef18871",
   "metadata": {},
   "outputs": [],
   "source": [
    "import matplotlib.pyplot as plt"
   ]
  },
  {
   "cell_type": "code",
   "execution_count": null,
   "id": "5179c993",
   "metadata": {},
   "outputs": [],
   "source": [
    "plt.figure(figsize=(20,20))\n",
    "i = 1\n",
    "for col in df.columns:\n",
    "    plt.subplot(5,3,i)\n",
    "    sns.kdeplot(df[col])\n",
    "    i+=1\n",
    "    "
   ]
  },
  {
   "cell_type": "code",
   "execution_count": null,
   "id": "4070c6b3",
   "metadata": {},
   "outputs": [],
   "source": [
    "# df[\"CRIM\"] = np.log1p(df[\"CRIM\"])"
   ]
  },
  {
   "cell_type": "code",
   "execution_count": null,
   "id": "c1e43f84",
   "metadata": {},
   "outputs": [],
   "source": [
    "# sns.kdeplot(df[\"CRIM\"])"
   ]
  },
  {
   "cell_type": "code",
   "execution_count": null,
   "id": "91968dad",
   "metadata": {},
   "outputs": [],
   "source": [
    "for col in df.loc[:,\"CRIM\":\"LSTAT\"].columns:\n",
    "    if df[col].skew()>0.5:\n",
    "        df[col] = np.log1p(df[col])\n",
    "    elif df[col].skew() < -0.5:\n",
    "        df[col] = np.sqrt(df[col])"
   ]
  },
  {
   "cell_type": "code",
   "execution_count": null,
   "id": "3c1b2e81",
   "metadata": {},
   "outputs": [],
   "source": [
    "plt.figure(figsize=(20,20))\n",
    "i = 1\n",
    "for col in df.columns:\n",
    "    plt.subplot(5,3,i)\n",
    "    sns.kdeplot(df[col])\n",
    "    i+=1\n",
    "    "
   ]
  },
  {
   "cell_type": "code",
   "execution_count": null,
   "id": "26a30a43",
   "metadata": {},
   "outputs": [],
   "source": []
  },
  {
   "cell_type": "code",
   "execution_count": null,
   "id": "5604d3d4",
   "metadata": {},
   "outputs": [],
   "source": []
  },
  {
   "cell_type": "code",
   "execution_count": null,
   "id": "a5ffba20",
   "metadata": {},
   "outputs": [],
   "source": []
  }
 ],
 "metadata": {
  "kernelspec": {
   "display_name": "Python 3 (ipykernel)",
   "language": "python",
   "name": "python3"
  },
  "language_info": {
   "codemirror_mode": {
    "name": "ipython",
    "version": 3
   },
   "file_extension": ".py",
   "mimetype": "text/x-python",
   "name": "python",
   "nbconvert_exporter": "python",
   "pygments_lexer": "ipython3",
   "version": "3.13.0"
  }
 },
 "nbformat": 4,
 "nbformat_minor": 5
}
